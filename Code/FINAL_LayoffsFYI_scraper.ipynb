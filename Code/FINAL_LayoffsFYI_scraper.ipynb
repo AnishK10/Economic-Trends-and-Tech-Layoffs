{
 "cells": [
  {
   "cell_type": "code",
   "execution_count": 154,
   "id": "64067222-fa01-4a67-a80b-ed1168b3b534",
   "metadata": {},
   "outputs": [],
   "source": [
    "%%capture\n",
    "%pip install pandas\n",
    "%pip install matplotlib\n",
    "%pip install selenium\n",
    "%pip install bs4"
   ]
  },
  {
   "cell_type": "code",
   "execution_count": 119,
   "id": "0b4b4f16-73f7-47c8-b9d4-d7ef3e1678aa",
   "metadata": {},
   "outputs": [],
   "source": [
    "\n",
    "import requests\n",
    "import pandas as pd\n",
    "import matplotlib.pyplot as plt\n",
    "import time\n",
    "from bs4 import BeautifulSoup\n",
    "from selenium import webdriver\n",
    "from selenium.webdriver.common.by import By\n",
    "from selenium.webdriver.common.keys import Keys\n",
    "from selenium.webdriver.common.action_chains import ActionChains\n",
    "\n",
    "import re\n",
    "import time"
   ]
  },
  {
   "cell_type": "code",
   "execution_count": 129,
   "id": "71782f5d-5e29-4fdc-b6c6-993403503857",
   "metadata": {},
   "outputs": [],
   "source": [
    "driver = webdriver.Chrome()\n",
    "driver.get('https://airtable.com/app1PaujS9zxVGUZ4/shrqYt5kSqMzHV9R5/tbl8c8kanuNB6bPYr?backgroundColor=green&viewControls=on',)\n",
    "time.sleep(1)"
   ]
  },
  {
   "cell_type": "code",
   "execution_count": 130,
   "id": "1587af2b-75d0-4eb7-a52c-61b5af174183",
   "metadata": {},
   "outputs": [
    {
     "name": "stdout",
     "output_type": "stream",
     "text": [
      "Popup closed successfully!\n"
     ]
    }
   ],
   "source": [
    "from selenium import webdriver\n",
    "from selenium.webdriver.common.by import By\n",
    "from selenium.webdriver.support.ui import WebDriverWait\n",
    "from selenium.webdriver.support import expected_conditions as EC\n",
    "\n",
    "try:\n",
    "    close_button = WebDriverWait(driver, 10).until(\n",
    "        EC.element_to_be_clickable((By.XPATH, \"//*[@id='onetrust-close-btn-container']/button\"))\n",
    "    )\n",
    "    \n",
    "    # Click the close button\n",
    "    close_button.click()\n",
    "    print(\"Popup closed successfully!\")\n",
    "\n",
    "except Exception as e:\n",
    "    print(\"No popup found or an error occurred:\", str(e))"
   ]
  },
  {
   "cell_type": "code",
   "execution_count": 131,
   "id": "be7670fc-3fc4-49aa-9b29-3448ec944e6a",
   "metadata": {},
   "outputs": [],
   "source": [
    "scrollbar = \"//*[@id= 'view']/div/div[1]/div[1]/div[3]\"\n",
    "element = driver.find_element(By.XPATH, scrollbar)"
   ]
  },
  {
   "cell_type": "code",
   "execution_count": 132,
   "id": "e4ed9044-fa95-4986-940d-ef08444de5fa",
   "metadata": {},
   "outputs": [],
   "source": [
    "leftPane = []\n",
    "rightPane = []\n",
    "\n",
    "for _ in range(1240):\n",
    "    start_time = time.time()  # Start time of the loop\n",
    "\n",
    "    # Scroll bar \n",
    "    ActionChains(driver).click_and_hold(element).move_by_offset(0, 1).perform()\n",
    "    ActionChains(driver).reset_actions()\n",
    "\n",
    "    html = driver.page_source\n",
    "    parsed_html = BeautifulSoup(html, \"html.parser\")\n",
    "    \n",
    "    # Append data \n",
    "    left_data = parsed_html.find_all('div', class_='dataRow leftPane rowExpansionEnabled rowSelectionEnabled')\n",
    "    right_data = parsed_html.find_all('div', class_='dataRow rightPane rowExpansionEnabled rowSelectionEnabled')\n",
    "    leftPane.append(left_data)\n",
    "    rightPane.append(right_data)\n",
    "    \n",
    "    end_time = time.time() \n",
    "    elapsed_time = end_time - start_time  \n",
    "\n",
    "    #Rate limiting activity\n",
    "    if elapsed_time < 1/5:\n",
    "        time.sleep(1/5 - elapsed_time)"
   ]
  },
  {
   "cell_type": "code",
   "execution_count": 140,
   "id": "a2dd2a53-a2b9-4dd2-8336-d35df682bb38",
   "metadata": {},
   "outputs": [],
   "source": [
    "matches = {}\n",
    "\n",
    "# HTML Pattern\n",
    "pattern = r'<div class=\"line-height-4 overflow-hidden truncate\">(.*?)<\\/div>'\n",
    "\n",
    "for element in leftPane:\n",
    "    for sub_element in element:\n",
    "        # Convert the sub-element to a string and search for the pattern\n",
    "        match = re.search(pattern, str(sub_element))\n",
    "        \n",
    "        if match:\n",
    "            key = str(sub_element)[70:100]\n",
    "            value = str(match.group(1))\n",
    "            \n",
    "            matches[key] = value\n"
   ]
  },
  {
   "cell_type": "code",
   "execution_count": 141,
   "id": "81d6a4c8-8419-4da5-b84a-7a675a86dba5",
   "metadata": {},
   "outputs": [],
   "source": [
    "data_dict = {}\n",
    "\n",
    "# Define patterns\n",
    "url_pattern = r'<span class=\"url\">(.*?)</span>'\n",
    "common_pattern = r'<div class=\"flex-auto truncate-pre\" title=\"(.*?)\">'\n",
    "pattern = r'<div class=\"flex-auto truncate line-height-4 right-align tabular-nums\" style=\"padding:6px\">(.*?)</div>'\n",
    "date_pattern = r'<div class=\"truncate css-10jy3hn\">(.*?)</div></div></div>'\n",
    "\n",
    "for i, right_pane_row in enumerate(rightPane):\n",
    "    for j, right_pane_item in enumerate(right_pane_row):\n",
    "        right_pane_str = str(right_pane_item)\n",
    "        key = matches.get(right_pane_str[71:101])\n",
    "        \n",
    "        if key:\n",
    "            html = right_pane_str\n",
    "            company_name = matches.get(str(leftPane[i][j])[70:100])\n",
    "            \n",
    "            data_dict[key] = {\n",
    "                'company_name': company_name,\n",
    "                'percentage': '',\n",
    "                'location': '',\n",
    "                'url': '',\n",
    "                'industry': '',\n",
    "                '#layoff': '',\n",
    "                'stage': '',\n",
    "                'date': ''\n",
    "            }\n",
    "\n",
    "            # Get URL and common info\n",
    "            url_match = re.search(url_pattern, html)\n",
    "            if url_match:\n",
    "                data_dict[key]['url'] = url_match.group(1)\n",
    "            \n",
    "            common_match = re.findall(common_pattern, html)\n",
    "            if common_match:\n",
    "                data_dict[key]['location'] = common_match[0]\n",
    "                if len(common_match) == 4:\n",
    "                    data_dict[key]['country'] = common_match[3]\n",
    "                    data_dict[key]['stage'] = common_match[2]\n",
    "                    data_dict[key]['industry'] = common_match[1]\n",
    "                elif len(common_match) == 3:\n",
    "                    data_dict[key]['country'] = common_match[2]\n",
    "                else:\n",
    "                    data_dict[key]['country'] = common_match[4]\n",
    "                    data_dict[key]['industry'] = common_match[2]\n",
    "            \n",
    "            match = re.findall(pattern, right_pane_str)\n",
    "            if match:\n",
    "                if len(match) == 3:\n",
    "                    data_dict[key]['#layoff'] = match[0]\n",
    "                    data_dict[key]['percentage'] = match[1]\n",
    "                    data_dict[key]['raised'] = match[2]\n",
    "                elif len(match) == 1:\n",
    "                    data_dict[key]['raised'] = match[0]\n",
    "                elif len(match) == 2:\n",
    "                    if '%' in match[0]:\n",
    "                        data_dict[key]['percentage'] = match[0]\n",
    "                        data_dict[key]['raised'] = match[1]\n",
    "                    elif '%' in match[1]:\n",
    "                        data_dict[key]['#layoff'] = match[0]\n",
    "                        data_dict[key]['percentage'] = match[1]\n",
    "                    else:\n",
    "                        data_dict[key]['#layoff'] = match[0]\n",
    "                        data_dict[key]['raised'] = match[1]\n",
    "            \n",
    "            date_match = re.search(date_pattern, html)\n",
    "            if date_match:\n",
    "                data_dict[key]['date'] = date_match.group(1)"
   ]
  },
  {
   "cell_type": "code",
   "execution_count": 153,
   "id": "12b89466-1ef1-4573-a126-dbf1e6402878",
   "metadata": {},
   "outputs": [
    {
     "name": "stdout",
     "output_type": "stream",
     "text": [
      "DataFrame sorted by Date in descending order.\n",
      "Sorted data saved as 'sorted_layoffs_data.csv'\n"
     ]
    }
   ],
   "source": [
    "import pandas as pd\n",
    "\n",
    "df = pd.DataFrame.from_dict(data_dict, orient='index')\n",
    "df.reset_index(drop=True, inplace=True)\n",
    "\n",
    "new_column_names = {\n",
    "    'company_name': 'Company',\n",
    "    'percentage': 'Percentage',\n",
    "    'location': 'Location HQ',\n",
    "    'url': 'URL',\n",
    "    'industry': 'Industry',\n",
    "    '#layoff': '# Laid Off',\n",
    "    'stage': 'Stage',\n",
    "    'date': 'Date',\n",
    "    'country': 'Country',\n",
    "    'raised': '$ Raised (mm)'\n",
    "}\n",
    "\n",
    "df.rename(columns=new_column_names, inplace=True)\n",
    "\n",
    "if 'Date' in df.columns:\n",
    "    df['Date'] = pd.to_datetime(df['Date'], errors='coerce')\n",
    "\n",
    "    # Sort the dataframe by 'Date' in descending order\n",
    "    df.sort_values(by='Date', ascending=False, inplace=True)\n",
    "\n",
    "    print(\"DataFrame sorted by Date in descending order.\")\n",
    "else:\n",
    "    print(\"The 'Date' column is not found in the DataFrame.\")\n",
    "\n",
    "df.to_csv(\"sorted_layoffs_data.csv\", index=False)\n",
    "print(\"Sorted data saved as 'sorted_layoffs_data.csv'\")\n"
   ]
  },
  {
   "cell_type": "code",
   "execution_count": null,
   "id": "9379e083-1036-4fc6-b54d-edda1c436358",
   "metadata": {},
   "outputs": [],
   "source": []
  }
 ],
 "metadata": {
  "kernelspec": {
   "display_name": "Python 3 (ipykernel)",
   "language": "python",
   "name": "python3"
  },
  "language_info": {
   "codemirror_mode": {
    "name": "ipython",
    "version": 3
   },
   "file_extension": ".py",
   "mimetype": "text/x-python",
   "name": "python",
   "nbconvert_exporter": "python",
   "pygments_lexer": "ipython3",
   "version": "3.13.2"
  }
 },
 "nbformat": 4,
 "nbformat_minor": 5
}
